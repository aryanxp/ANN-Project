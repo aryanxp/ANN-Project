{
  "nbformat": 4,
  "nbformat_minor": 0,
  "metadata": {
    "colab": {
      "name": "Admission Prediction using ANN.ipynb",
      "provenance": [],
      "collapsed_sections": [],
      "authorship_tag": "ABX9TyMEKc06qPm9sQ7WddjJLPUY",
      "include_colab_link": true
    },
    "kernelspec": {
      "name": "python3",
      "display_name": "Python 3"
    },
    "language_info": {
      "name": "python"
    }
  },
  "cells": [
    {
      "cell_type": "markdown",
      "metadata": {
        "id": "view-in-github",
        "colab_type": "text"
      },
      "source": [
        "<a href=\"https://colab.research.google.com/github/aryanxp/ANN-Project/blob/main/Admission_Prediction_using_ANN.ipynb\" target=\"_parent\"><img src=\"https://colab.research.google.com/assets/colab-badge.svg\" alt=\"Open In Colab\"/></a>"
      ]
    },
    {
      "cell_type": "code",
      "metadata": {
        "id": "bKiLQJi2mj2F"
      },
      "source": [
        "import pandas as pd\n",
        "import numpy as np\n",
        "\n",
        "data = pd.read_csv('Admission.csv')\n",
        "data=data.drop(columns=['Serial No.'])"
      ],
      "execution_count": 45,
      "outputs": []
    },
    {
      "cell_type": "code",
      "metadata": {
        "colab": {
          "base_uri": "https://localhost:8080/",
          "height": 422
        },
        "id": "oViyXd1uvUqG",
        "outputId": "d1e2abce-175f-4fd1-e01b-da787aea4b8f"
      },
      "source": [
        "data"
      ],
      "execution_count": 46,
      "outputs": [
        {
          "output_type": "execute_result",
          "data": {
            "text/html": [
              "<div>\n",
              "<style scoped>\n",
              "    .dataframe tbody tr th:only-of-type {\n",
              "        vertical-align: middle;\n",
              "    }\n",
              "\n",
              "    .dataframe tbody tr th {\n",
              "        vertical-align: top;\n",
              "    }\n",
              "\n",
              "    .dataframe thead th {\n",
              "        text-align: right;\n",
              "    }\n",
              "</style>\n",
              "<table border=\"1\" class=\"dataframe\">\n",
              "  <thead>\n",
              "    <tr style=\"text-align: right;\">\n",
              "      <th></th>\n",
              "      <th>GRE Score</th>\n",
              "      <th>TOEFL Score</th>\n",
              "      <th>University Rating</th>\n",
              "      <th>SOP</th>\n",
              "      <th>LOR</th>\n",
              "      <th>CGPA</th>\n",
              "      <th>Research</th>\n",
              "      <th>Admission Chance</th>\n",
              "    </tr>\n",
              "  </thead>\n",
              "  <tbody>\n",
              "    <tr>\n",
              "      <th>0</th>\n",
              "      <td>337</td>\n",
              "      <td>118</td>\n",
              "      <td>4</td>\n",
              "      <td>4.5</td>\n",
              "      <td>4.5</td>\n",
              "      <td>9.65</td>\n",
              "      <td>1</td>\n",
              "      <td>0.92</td>\n",
              "    </tr>\n",
              "    <tr>\n",
              "      <th>1</th>\n",
              "      <td>324</td>\n",
              "      <td>107</td>\n",
              "      <td>4</td>\n",
              "      <td>4.0</td>\n",
              "      <td>4.5</td>\n",
              "      <td>8.87</td>\n",
              "      <td>1</td>\n",
              "      <td>0.76</td>\n",
              "    </tr>\n",
              "    <tr>\n",
              "      <th>2</th>\n",
              "      <td>316</td>\n",
              "      <td>104</td>\n",
              "      <td>3</td>\n",
              "      <td>3.0</td>\n",
              "      <td>3.5</td>\n",
              "      <td>8.00</td>\n",
              "      <td>1</td>\n",
              "      <td>0.72</td>\n",
              "    </tr>\n",
              "    <tr>\n",
              "      <th>3</th>\n",
              "      <td>322</td>\n",
              "      <td>110</td>\n",
              "      <td>3</td>\n",
              "      <td>3.5</td>\n",
              "      <td>2.5</td>\n",
              "      <td>8.67</td>\n",
              "      <td>1</td>\n",
              "      <td>0.80</td>\n",
              "    </tr>\n",
              "    <tr>\n",
              "      <th>4</th>\n",
              "      <td>314</td>\n",
              "      <td>103</td>\n",
              "      <td>2</td>\n",
              "      <td>2.0</td>\n",
              "      <td>3.0</td>\n",
              "      <td>8.21</td>\n",
              "      <td>0</td>\n",
              "      <td>0.65</td>\n",
              "    </tr>\n",
              "    <tr>\n",
              "      <th>...</th>\n",
              "      <td>...</td>\n",
              "      <td>...</td>\n",
              "      <td>...</td>\n",
              "      <td>...</td>\n",
              "      <td>...</td>\n",
              "      <td>...</td>\n",
              "      <td>...</td>\n",
              "      <td>...</td>\n",
              "    </tr>\n",
              "    <tr>\n",
              "      <th>395</th>\n",
              "      <td>324</td>\n",
              "      <td>110</td>\n",
              "      <td>3</td>\n",
              "      <td>3.5</td>\n",
              "      <td>3.5</td>\n",
              "      <td>9.04</td>\n",
              "      <td>1</td>\n",
              "      <td>0.82</td>\n",
              "    </tr>\n",
              "    <tr>\n",
              "      <th>396</th>\n",
              "      <td>325</td>\n",
              "      <td>107</td>\n",
              "      <td>3</td>\n",
              "      <td>3.0</td>\n",
              "      <td>3.5</td>\n",
              "      <td>9.11</td>\n",
              "      <td>1</td>\n",
              "      <td>0.84</td>\n",
              "    </tr>\n",
              "    <tr>\n",
              "      <th>397</th>\n",
              "      <td>330</td>\n",
              "      <td>116</td>\n",
              "      <td>4</td>\n",
              "      <td>5.0</td>\n",
              "      <td>4.5</td>\n",
              "      <td>9.45</td>\n",
              "      <td>1</td>\n",
              "      <td>0.91</td>\n",
              "    </tr>\n",
              "    <tr>\n",
              "      <th>398</th>\n",
              "      <td>312</td>\n",
              "      <td>103</td>\n",
              "      <td>3</td>\n",
              "      <td>3.5</td>\n",
              "      <td>4.0</td>\n",
              "      <td>8.78</td>\n",
              "      <td>0</td>\n",
              "      <td>0.67</td>\n",
              "    </tr>\n",
              "    <tr>\n",
              "      <th>399</th>\n",
              "      <td>333</td>\n",
              "      <td>117</td>\n",
              "      <td>4</td>\n",
              "      <td>5.0</td>\n",
              "      <td>4.0</td>\n",
              "      <td>9.66</td>\n",
              "      <td>1</td>\n",
              "      <td>0.95</td>\n",
              "    </tr>\n",
              "  </tbody>\n",
              "</table>\n",
              "<p>400 rows × 8 columns</p>\n",
              "</div>"
            ],
            "text/plain": [
              "     GRE Score  TOEFL Score  ...  Research  Admission Chance\n",
              "0          337          118  ...         1              0.92\n",
              "1          324          107  ...         1              0.76\n",
              "2          316          104  ...         1              0.72\n",
              "3          322          110  ...         1              0.80\n",
              "4          314          103  ...         0              0.65\n",
              "..         ...          ...  ...       ...               ...\n",
              "395        324          110  ...         1              0.82\n",
              "396        325          107  ...         1              0.84\n",
              "397        330          116  ...         1              0.91\n",
              "398        312          103  ...         0              0.67\n",
              "399        333          117  ...         1              0.95\n",
              "\n",
              "[400 rows x 8 columns]"
            ]
          },
          "metadata": {},
          "execution_count": 46
        }
      ]
    },
    {
      "cell_type": "code",
      "metadata": {
        "colab": {
          "base_uri": "https://localhost:8080/"
        },
        "id": "JFmQvfQnvjNS",
        "outputId": "66a8ed59-be08-43bd-8be0-dbbc399839b4"
      },
      "source": [
        "data.isnull().sum()"
      ],
      "execution_count": 47,
      "outputs": [
        {
          "output_type": "execute_result",
          "data": {
            "text/plain": [
              "GRE Score            0\n",
              "TOEFL Score          0\n",
              "University Rating    0\n",
              "SOP                  0\n",
              "LOR                  0\n",
              "CGPA                 0\n",
              "Research             0\n",
              "Admission Chance     0\n",
              "dtype: int64"
            ]
          },
          "metadata": {},
          "execution_count": 47
        }
      ]
    },
    {
      "cell_type": "code",
      "metadata": {
        "id": "iKSKABIUvohg"
      },
      "source": [
        "import keras"
      ],
      "execution_count": 48,
      "outputs": []
    },
    {
      "cell_type": "code",
      "metadata": {
        "colab": {
          "base_uri": "https://localhost:8080/",
          "height": 299
        },
        "id": "g5l9wUYc3fKN",
        "outputId": "8be9161e-9daf-4ff8-9699-a7bdf9eb6f4b"
      },
      "source": [
        "Data=data.rename(columns={'GRE Score':'GRE','TOEFL Score':'TOEFL','University Rating':'university_Rating','Admission Chance':'Chance_of_Admit'},inplace=True)\n",
        "data.describe()"
      ],
      "execution_count": 49,
      "outputs": [
        {
          "output_type": "execute_result",
          "data": {
            "text/html": [
              "<div>\n",
              "<style scoped>\n",
              "    .dataframe tbody tr th:only-of-type {\n",
              "        vertical-align: middle;\n",
              "    }\n",
              "\n",
              "    .dataframe tbody tr th {\n",
              "        vertical-align: top;\n",
              "    }\n",
              "\n",
              "    .dataframe thead th {\n",
              "        text-align: right;\n",
              "    }\n",
              "</style>\n",
              "<table border=\"1\" class=\"dataframe\">\n",
              "  <thead>\n",
              "    <tr style=\"text-align: right;\">\n",
              "      <th></th>\n",
              "      <th>GRE</th>\n",
              "      <th>TOEFL</th>\n",
              "      <th>university_Rating</th>\n",
              "      <th>SOP</th>\n",
              "      <th>LOR</th>\n",
              "      <th>CGPA</th>\n",
              "      <th>Research</th>\n",
              "      <th>Chance_of_Admit</th>\n",
              "    </tr>\n",
              "  </thead>\n",
              "  <tbody>\n",
              "    <tr>\n",
              "      <th>count</th>\n",
              "      <td>400.000000</td>\n",
              "      <td>400.000000</td>\n",
              "      <td>400.000000</td>\n",
              "      <td>400.000000</td>\n",
              "      <td>400.000000</td>\n",
              "      <td>400.000000</td>\n",
              "      <td>400.000000</td>\n",
              "      <td>400.000000</td>\n",
              "    </tr>\n",
              "    <tr>\n",
              "      <th>mean</th>\n",
              "      <td>316.807500</td>\n",
              "      <td>107.410000</td>\n",
              "      <td>3.087500</td>\n",
              "      <td>3.400000</td>\n",
              "      <td>3.452500</td>\n",
              "      <td>8.598925</td>\n",
              "      <td>0.547500</td>\n",
              "      <td>0.724350</td>\n",
              "    </tr>\n",
              "    <tr>\n",
              "      <th>std</th>\n",
              "      <td>11.473646</td>\n",
              "      <td>6.069514</td>\n",
              "      <td>1.143728</td>\n",
              "      <td>1.006869</td>\n",
              "      <td>0.898478</td>\n",
              "      <td>0.596317</td>\n",
              "      <td>0.498362</td>\n",
              "      <td>0.142609</td>\n",
              "    </tr>\n",
              "    <tr>\n",
              "      <th>min</th>\n",
              "      <td>290.000000</td>\n",
              "      <td>92.000000</td>\n",
              "      <td>1.000000</td>\n",
              "      <td>1.000000</td>\n",
              "      <td>1.000000</td>\n",
              "      <td>6.800000</td>\n",
              "      <td>0.000000</td>\n",
              "      <td>0.340000</td>\n",
              "    </tr>\n",
              "    <tr>\n",
              "      <th>25%</th>\n",
              "      <td>308.000000</td>\n",
              "      <td>103.000000</td>\n",
              "      <td>2.000000</td>\n",
              "      <td>2.500000</td>\n",
              "      <td>3.000000</td>\n",
              "      <td>8.170000</td>\n",
              "      <td>0.000000</td>\n",
              "      <td>0.640000</td>\n",
              "    </tr>\n",
              "    <tr>\n",
              "      <th>50%</th>\n",
              "      <td>317.000000</td>\n",
              "      <td>107.000000</td>\n",
              "      <td>3.000000</td>\n",
              "      <td>3.500000</td>\n",
              "      <td>3.500000</td>\n",
              "      <td>8.610000</td>\n",
              "      <td>1.000000</td>\n",
              "      <td>0.730000</td>\n",
              "    </tr>\n",
              "    <tr>\n",
              "      <th>75%</th>\n",
              "      <td>325.000000</td>\n",
              "      <td>112.000000</td>\n",
              "      <td>4.000000</td>\n",
              "      <td>4.000000</td>\n",
              "      <td>4.000000</td>\n",
              "      <td>9.062500</td>\n",
              "      <td>1.000000</td>\n",
              "      <td>0.830000</td>\n",
              "    </tr>\n",
              "    <tr>\n",
              "      <th>max</th>\n",
              "      <td>340.000000</td>\n",
              "      <td>120.000000</td>\n",
              "      <td>5.000000</td>\n",
              "      <td>5.000000</td>\n",
              "      <td>5.000000</td>\n",
              "      <td>9.920000</td>\n",
              "      <td>1.000000</td>\n",
              "      <td>0.970000</td>\n",
              "    </tr>\n",
              "  </tbody>\n",
              "</table>\n",
              "</div>"
            ],
            "text/plain": [
              "              GRE       TOEFL  ...    Research  Chance_of_Admit\n",
              "count  400.000000  400.000000  ...  400.000000       400.000000\n",
              "mean   316.807500  107.410000  ...    0.547500         0.724350\n",
              "std     11.473646    6.069514  ...    0.498362         0.142609\n",
              "min    290.000000   92.000000  ...    0.000000         0.340000\n",
              "25%    308.000000  103.000000  ...    0.000000         0.640000\n",
              "50%    317.000000  107.000000  ...    1.000000         0.730000\n",
              "75%    325.000000  112.000000  ...    1.000000         0.830000\n",
              "max    340.000000  120.000000  ...    1.000000         0.970000\n",
              "\n",
              "[8 rows x 8 columns]"
            ]
          },
          "metadata": {},
          "execution_count": 49
        }
      ]
    },
    {
      "cell_type": "code",
      "metadata": {
        "colab": {
          "base_uri": "https://localhost:8080/",
          "height": 588
        },
        "id": "f6WAWoXM9NMj",
        "outputId": "5b051ef1-6bcf-4cec-862f-7d40b0d32a2e"
      },
      "source": [
        "#Data Visualization\n",
        "import seaborn as sb\n",
        "import matplotlib.pyplot as plt\n",
        "plt.figure(figsize=(20,8))\n",
        "sb.set_style('darkgrid')\n",
        "plt.subplot(1,2,1)\n",
        "plt.title('number of orders Distribution Plot')\n",
        "sb.distplot(data.Chance_of_Admit)\n",
        "\n",
        "plt.subplot(1,2,2)\n",
        "plt.title('number of orders Spread')\n",
        "sb.boxplot(y=data.Chance_of_Admit)"
      ],
      "execution_count": 50,
      "outputs": [
        {
          "output_type": "stream",
          "name": "stderr",
          "text": [
            "/usr/local/lib/python3.7/dist-packages/seaborn/distributions.py:2619: FutureWarning: `distplot` is a deprecated function and will be removed in a future version. Please adapt your code to use either `displot` (a figure-level function with similar flexibility) or `histplot` (an axes-level function for histograms).\n",
            "  warnings.warn(msg, FutureWarning)\n"
          ]
        },
        {
          "output_type": "execute_result",
          "data": {
            "text/plain": [
              "<matplotlib.axes._subplots.AxesSubplot at 0x7f61a1a870d0>"
            ]
          },
          "metadata": {},
          "execution_count": 50
        },
        {
          "output_type": "display_data",
          "data": {
            "image/png": "[encoded data removed]",
            "text/plain": [
              "<Figure size 1440x576 with 2 Axes>"
            ]
          },
          "metadata": {}
        }
      ]
    },
    {
      "cell_type": "code",
      "metadata": {
        "colab": {
          "base_uri": "https://localhost:8080/",
          "height": 355
        },
        "id": "P-Y-LkYa-I-E",
        "outputId": "5787d8a6-ec35-453b-ce8e-bd1a993452d8"
      },
      "source": [
        "sb.barplot(data.university_Rating,data.Chance_of_Admit)"
      ],
      "execution_count": 51,
      "outputs": [
        {
          "output_type": "stream",
          "name": "stderr",
          "text": [
            "/usr/local/lib/python3.7/dist-packages/seaborn/_decorators.py:43: FutureWarning: Pass the following variables as keyword args: x, y. From version 0.12, the only valid positional argument will be `data`, and passing other arguments without an explicit keyword will result in an error or misinterpretation.\n",
            "  FutureWarning\n"
          ]
        },
        {
          "output_type": "execute_result",
          "data": {
            "text/plain": [
              "<matplotlib.axes._subplots.AxesSubplot at 0x7f61a1862610>"
            ]
          },
          "metadata": {},
          "execution_count": 51
        },
        {
          "output_type": "display_data",
          "data": {
            "image/png": "[encoded data removed]",
            "text/plain": [
              "<Figure size 432x288 with 1 Axes>"
            ]
          },
          "metadata": {}
        }
      ]
    },
    {
      "cell_type": "code",
      "metadata": {
        "colab": {
          "base_uri": "https://localhost:8080/",
          "height": 833
        },
        "id": "878V7l6p-Xgf",
        "outputId": "ad81bed7-a3c7-46d0-ae06-a169f783324c"
      },
      "source": [
        "sb.scatterplot(x=data.GRE,y=data.Chance_of_Admit)\n",
        "plt.show()\n",
        "sb.scatterplot(x=data.TOEFL,y=data.Chance_of_Admit)\n",
        "plt.show()\n",
        "sb.scatterplot(x=data.CGPA,y=data.Chance_of_Admit)"
      ],
      "execution_count": 52,
      "outputs": [
        {
          "output_type": "display_data",
          "data": {
            "image/png": "[encoded data removed]",
            "text/plain": [
              "<Figure size 432x288 with 1 Axes>"
            ]
          },
          "metadata": {}
        },
        {
          "output_type": "display_data",
          "data": {
            "image/png": "[encoded data removed]",
            "text/plain": [
              "<Figure size 432x288 with 1 Axes>"
            ]
          },
          "metadata": {}
        },
        {
          "output_type": "execute_result",
          "data": {
            "text/plain": [
              "<matplotlib.axes._subplots.AxesSubplot at 0x7f61a19ebd10>"
            ]
          },
          "metadata": {},
          "execution_count": 52
        },
        {
          "output_type": "display_data",
          "data": {
            "image/png": "[encoded data removed]",
            "text/plain": [
              "<Figure size 432x288 with 1 Axes>"
            ]
          },
          "metadata": {}
        }
      ]
    },
    {
      "cell_type": "code",
      "metadata": {
        "colab": {
          "base_uri": "https://localhost:8080/",
          "height": 401
        },
        "id": "GFpGRrvg_df7",
        "outputId": "2006cb10-85c4-478d-e644-8cedcd4e8276"
      },
      "source": [
        "#Correlation Graph\n",
        "plt.figure(figsize=(10,5))\n",
        "cr = data.corr()\n",
        "sb.heatmap(cr, annot=True, linewidths=0.05, fmt= '.2f',cmap=\"magma\")\n",
        "plt.show()"
      ],
      "execution_count": 53,
      "outputs": [
        {
          "output_type": "display_data",
          "data": {
            "image/png": "[encoded data removed]",
            "text/plain": [
              "<Figure size 720x360 with 2 Axes>"
            ]
          },
          "metadata": {}
        }
      ]
    },
    {
      "cell_type": "code",
      "metadata": {
        "id": "VOhnXpUko6Ah"
      },
      "source": [
        "#Assigning all columns values except chance of admit to x and chance of admit to y.\n",
        "x = data.iloc[:, :-1].values\n",
        "y = data.iloc[:, 7].values"
      ],
      "execution_count": 54,
      "outputs": []
    },
    {
      "cell_type": "code",
      "metadata": {
        "id": "dXW6k9ziHHwy"
      },
      "source": [
        "'''#Feature Encoding\n",
        "from sklearn.preprocessing import LabelEncoder\n",
        "y[:] = LabelEncoder().fit_transform(y[:])'''"
      ],
      "execution_count": null,
      "outputs": []
    },
    {
      "cell_type": "code",
      "metadata": {
        "id": "9967dhDApgIt"
      },
      "source": [
        "#Splitting of Data into train and test (25% and 75% respectively)\n",
        "from sklearn.model_selection import train_test_split\n",
        "X_train, X_test, y_train, y_test = train_test_split(x, y, test_size = 0.25)"
      ],
      "execution_count": 56,
      "outputs": []
    },
    {
      "cell_type": "code",
      "metadata": {
        "id": "st8WqsrHRTVU"
      },
      "source": [
        "X_train"
      ],
      "execution_count": null,
      "outputs": []
    },
    {
      "cell_type": "code",
      "metadata": {
        "id": "ozHpq7SNxZie"
      },
      "source": [
        "# Feature Scaling\n",
        "from sklearn.preprocessing import StandardScaler\n",
        "sc = StandardScaler()\n",
        "X_train = sc.fit_transform(X_train)\n",
        "X_test = sc.transform(X_test)"
      ],
      "execution_count": 58,
      "outputs": []
    },
    {
      "cell_type": "code",
      "metadata": {
        "id": "m_8jUuSa_pOj"
      },
      "source": [
        "X_train"
      ],
      "execution_count": null,
      "outputs": []
    },
    {
      "cell_type": "code",
      "metadata": {
        "id": "4MEBsy1yrNOX"
      },
      "source": [
        "from keras.models import Sequential\n",
        "from keras.layers import Dense\n",
        "from keras.layers import Dropout\n",
        "from tensorflow.keras.optimizers import Adam"
      ],
      "execution_count": 104,
      "outputs": []
    },
    {
      "cell_type": "code",
      "metadata": {
        "id": "u2D7M8t5uGDp"
      },
      "source": [
        "#Initializing ANN\n",
        "classifier = Sequential()\n",
        "#Input layer and hidden layer\n",
        "classifier.add(Dense(units = 4,activation='relu',kernel_initializer='uniform',input_dim=7))\n",
        "#Second Hidden Layer\n",
        "classifier.add(Dense(units = 2, activation = 'relu', kernel_initializer = 'uniform'))\n",
        "#Output Layer\n",
        "classifier.add(Dense(units = 1, kernel_initializer = 'uniform', activation = 'sigmoid'))\n",
        "#Compile ANN\n",
        "classifier.compile(optimizer=Adam(), loss='mean_squared_error')"
      ],
      "execution_count": 110,
      "outputs": []
    },
    {
      "cell_type": "code",
      "metadata": {
        "id": "5-Lznhu4uSAi",
        "colab": {
          "base_uri": "https://localhost:8080/"
        },
        "outputId": "b4cf4690-9bab-454e-c93a-707f9e4306cd"
      },
      "source": [
        "classifier.summary()"
      ],
      "execution_count": 106,
      "outputs": [
        {
          "output_type": "stream",
          "name": "stdout",
          "text": [
            "Model: \"sequential_6\"\n",
            "_________________________________________________________________\n",
            "Layer (type)                 Output Shape              Param #   \n",
            "=================================================================\n",
            "dense_18 (Dense)             (None, 4)                 32        \n",
            "_________________________________________________________________\n",
            "dense_19 (Dense)             (None, 2)                 10        \n",
            "_________________________________________________________________\n",
            "dense_20 (Dense)             (None, 1)                 3         \n",
            "=================================================================\n",
            "Total params: 45\n",
            "Trainable params: 45\n",
            "Non-trainable params: 0\n",
            "_________________________________________________________________\n"
          ]
        }
      ]
    },
    {
      "cell_type": "code",
      "metadata": {
        "id": "w5nhFulS8A1j"
      },
      "source": [
        "!pip install ann_visualizer\n",
        "from ann_visualizer.visualize import ann_viz\n",
        "ann_viz(classifier,view=True,filename='admission.gv', title=\"admission\")\n",
        "# A admission.gv.pdf file is created to visualize the neurons of our ANN model"
      ],
      "execution_count": null,
      "outputs": []
    },
    {
      "cell_type": "code",
      "metadata": {
        "id": "zEV6El0S74xl",
        "colab": {
          "base_uri": "https://localhost:8080/"
        },
        "outputId": "c9da6b8f-041f-4e05-db64-508346992e7b"
      },
      "source": [
        "classifier.fit(X_train, y_train,batch_size=10, epochs = 100)"
      ],
      "execution_count": 111,
      "outputs": [
        {
          "output_type": "stream",
          "name": "stdout",
          "text": [
            "Epoch 1/100\n",
            "30/30 [==============================] - 0s 1ms/step - loss: 0.0699\n",
            "Epoch 2/100\n",
            "30/30 [==============================] - 0s 1ms/step - loss: 0.0662\n",
            "Epoch 3/100\n",
            "30/30 [==============================] - 0s 998us/step - loss: 0.0619\n",
            "Epoch 4/100\n",
            "30/30 [==============================] - 0s 1ms/step - loss: 0.0568\n",
            "Epoch 5/100\n",
            "30/30 [==============================] - 0s 997us/step - loss: 0.0505\n",
            "Epoch 6/100\n",
            "30/30 [==============================] - 0s 1ms/step - loss: 0.0435\n",
            "Epoch 7/100\n",
            "30/30 [==============================] - 0s 1ms/step - loss: 0.0357\n",
            "Epoch 8/100\n",
            "30/30 [==============================] - 0s 1ms/step - loss: 0.0280\n",
            "Epoch 9/100\n",
            "30/30 [==============================] - 0s 1ms/step - loss: 0.0213\n",
            "Epoch 10/100\n",
            "30/30 [==============================] - 0s 1ms/step - loss: 0.0158\n",
            "Epoch 11/100\n",
            "30/30 [==============================] - 0s 1ms/step - loss: 0.0119\n",
            "Epoch 12/100\n",
            "30/30 [==============================] - 0s 1ms/step - loss: 0.0092\n",
            "Epoch 13/100\n",
            "30/30 [==============================] - 0s 1ms/step - loss: 0.0075\n",
            "Epoch 14/100\n",
            "30/30 [==============================] - 0s 1ms/step - loss: 0.0064\n",
            "Epoch 15/100\n",
            "30/30 [==============================] - 0s 1ms/step - loss: 0.0057\n",
            "Epoch 16/100\n",
            "30/30 [==============================] - 0s 1ms/step - loss: 0.0053\n",
            "Epoch 17/100\n",
            "30/30 [==============================] - 0s 1ms/step - loss: 0.0050\n",
            "Epoch 18/100\n",
            "30/30 [==============================] - 0s 1ms/step - loss: 0.0048\n",
            "Epoch 19/100\n",
            "30/30 [==============================] - 0s 1ms/step - loss: 0.0046\n",
            "Epoch 20/100\n",
            "30/30 [==============================] - 0s 1ms/step - loss: 0.0044\n",
            "Epoch 21/100\n",
            "30/30 [==============================] - 0s 1ms/step - loss: 0.0044\n",
            "Epoch 22/100\n",
            "30/30 [==============================] - 0s 1ms/step - loss: 0.0043\n",
            "Epoch 23/100\n",
            "30/30 [==============================] - 0s 1ms/step - loss: 0.0042\n",
            "Epoch 24/100\n",
            "30/30 [==============================] - 0s 1ms/step - loss: 0.0042\n",
            "Epoch 25/100\n",
            "30/30 [==============================] - 0s 1ms/step - loss: 0.0041\n",
            "Epoch 26/100\n",
            "30/30 [==============================] - 0s 966us/step - loss: 0.0041\n",
            "Epoch 27/100\n",
            "30/30 [==============================] - 0s 1ms/step - loss: 0.0040\n",
            "Epoch 28/100\n",
            "30/30 [==============================] - 0s 1ms/step - loss: 0.0040\n",
            "Epoch 29/100\n",
            "30/30 [==============================] - 0s 1ms/step - loss: 0.0040\n",
            "Epoch 30/100\n",
            "30/30 [==============================] - 0s 1ms/step - loss: 0.0039\n",
            "Epoch 31/100\n",
            "30/30 [==============================] - 0s 1ms/step - loss: 0.0039\n",
            "Epoch 32/100\n",
            "30/30 [==============================] - 0s 1ms/step - loss: 0.0039\n",
            "Epoch 33/100\n",
            "30/30 [==============================] - 0s 1ms/step - loss: 0.0039\n",
            "Epoch 34/100\n",
            "30/30 [==============================] - 0s 1ms/step - loss: 0.0039\n",
            "Epoch 35/100\n",
            "30/30 [==============================] - 0s 1ms/step - loss: 0.0039\n",
            "Epoch 36/100\n",
            "30/30 [==============================] - 0s 1ms/step - loss: 0.0039\n",
            "Epoch 37/100\n",
            "30/30 [==============================] - 0s 1ms/step - loss: 0.0038\n",
            "Epoch 38/100\n",
            "30/30 [==============================] - 0s 2ms/step - loss: 0.0038\n",
            "Epoch 39/100\n",
            "30/30 [==============================] - 0s 1ms/step - loss: 0.0038\n",
            "Epoch 40/100\n",
            "30/30 [==============================] - 0s 1ms/step - loss: 0.0038\n",
            "Epoch 41/100\n",
            "30/30 [==============================] - 0s 994us/step - loss: 0.0038\n",
            "Epoch 42/100\n",
            "30/30 [==============================] - 0s 1ms/step - loss: 0.0038\n",
            "Epoch 43/100\n",
            "30/30 [==============================] - 0s 1ms/step - loss: 0.0038\n",
            "Epoch 44/100\n",
            "30/30 [==============================] - 0s 1ms/step - loss: 0.0038\n",
            "Epoch 45/100\n",
            "30/30 [==============================] - 0s 1ms/step - loss: 0.0038\n",
            "Epoch 46/100\n",
            "30/30 [==============================] - 0s 1ms/step - loss: 0.0038\n",
            "Epoch 47/100\n",
            "30/30 [==============================] - 0s 1ms/step - loss: 0.0037\n",
            "Epoch 48/100\n",
            "30/30 [==============================] - 0s 1ms/step - loss: 0.0038\n",
            "Epoch 49/100\n",
            "30/30 [==============================] - 0s 1ms/step - loss: 0.0038\n",
            "Epoch 50/100\n",
            "30/30 [==============================] - 0s 1ms/step - loss: 0.0038\n",
            "Epoch 51/100\n",
            "30/30 [==============================] - 0s 1ms/step - loss: 0.0037\n",
            "Epoch 52/100\n",
            "30/30 [==============================] - 0s 1ms/step - loss: 0.0037\n",
            "Epoch 53/100\n",
            "30/30 [==============================] - 0s 1ms/step - loss: 0.0038\n",
            "Epoch 54/100\n",
            "30/30 [==============================] - 0s 1ms/step - loss: 0.0037\n",
            "Epoch 55/100\n",
            "30/30 [==============================] - 0s 1ms/step - loss: 0.0037\n",
            "Epoch 56/100\n",
            "30/30 [==============================] - 0s 1ms/step - loss: 0.0037\n",
            "Epoch 57/100\n",
            "30/30 [==============================] - 0s 1ms/step - loss: 0.0038\n",
            "Epoch 58/100\n",
            "30/30 [==============================] - 0s 1ms/step - loss: 0.0038\n",
            "Epoch 59/100\n",
            "30/30 [==============================] - 0s 1ms/step - loss: 0.0037\n",
            "Epoch 60/100\n",
            "30/30 [==============================] - 0s 1ms/step - loss: 0.0037\n",
            "Epoch 61/100\n",
            "30/30 [==============================] - 0s 1ms/step - loss: 0.0037\n",
            "Epoch 62/100\n",
            "30/30 [==============================] - 0s 1ms/step - loss: 0.0037\n",
            "Epoch 63/100\n",
            "30/30 [==============================] - 0s 1ms/step - loss: 0.0037\n",
            "Epoch 64/100\n",
            "30/30 [==============================] - 0s 1ms/step - loss: 0.0037\n",
            "Epoch 65/100\n",
            "30/30 [==============================] - 0s 1ms/step - loss: 0.0037\n",
            "Epoch 66/100\n",
            "30/30 [==============================] - 0s 1ms/step - loss: 0.0037\n",
            "Epoch 67/100\n",
            "30/30 [==============================] - 0s 1ms/step - loss: 0.0037\n",
            "Epoch 68/100\n",
            "30/30 [==============================] - 0s 1ms/step - loss: 0.0037\n",
            "Epoch 69/100\n",
            "30/30 [==============================] - 0s 1ms/step - loss: 0.0037\n",
            "Epoch 70/100\n",
            "30/30 [==============================] - 0s 1ms/step - loss: 0.0037\n",
            "Epoch 71/100\n",
            "30/30 [==============================] - 0s 1ms/step - loss: 0.0037\n",
            "Epoch 72/100\n",
            "30/30 [==============================] - 0s 1ms/step - loss: 0.0037\n",
            "Epoch 73/100\n",
            "30/30 [==============================] - 0s 1ms/step - loss: 0.0037\n",
            "Epoch 74/100\n",
            "30/30 [==============================] - 0s 1ms/step - loss: 0.0037\n",
            "Epoch 75/100\n",
            "30/30 [==============================] - 0s 1ms/step - loss: 0.0037\n",
            "Epoch 76/100\n",
            "30/30 [==============================] - 0s 1ms/step - loss: 0.0037\n",
            "Epoch 77/100\n",
            "30/30 [==============================] - 0s 1ms/step - loss: 0.0037\n",
            "Epoch 78/100\n",
            "30/30 [==============================] - 0s 1ms/step - loss: 0.0037\n",
            "Epoch 79/100\n",
            "30/30 [==============================] - 0s 1ms/step - loss: 0.0037\n",
            "Epoch 80/100\n",
            "30/30 [==============================] - 0s 1ms/step - loss: 0.0037\n",
            "Epoch 81/100\n",
            "30/30 [==============================] - 0s 1ms/step - loss: 0.0037\n",
            "Epoch 82/100\n",
            "30/30 [==============================] - 0s 1ms/step - loss: 0.0037\n",
            "Epoch 83/100\n",
            "30/30 [==============================] - 0s 1ms/step - loss: 0.0037\n",
            "Epoch 84/100\n",
            "30/30 [==============================] - 0s 1ms/step - loss: 0.0037\n",
            "Epoch 85/100\n",
            "30/30 [==============================] - 0s 1ms/step - loss: 0.0037\n",
            "Epoch 86/100\n",
            "30/30 [==============================] - 0s 1ms/step - loss: 0.0037\n",
            "Epoch 87/100\n",
            "30/30 [==============================] - 0s 1ms/step - loss: 0.0037\n",
            "Epoch 88/100\n",
            "30/30 [==============================] - 0s 1ms/step - loss: 0.0037\n",
            "Epoch 89/100\n",
            "30/30 [==============================] - 0s 1ms/step - loss: 0.0036\n",
            "Epoch 90/100\n",
            "30/30 [==============================] - 0s 1ms/step - loss: 0.0037\n",
            "Epoch 91/100\n",
            "30/30 [==============================] - 0s 1ms/step - loss: 0.0036\n",
            "Epoch 92/100\n",
            "30/30 [==============================] - 0s 1ms/step - loss: 0.0036\n",
            "Epoch 93/100\n",
            "30/30 [==============================] - 0s 1ms/step - loss: 0.0037\n",
            "Epoch 94/100\n",
            "30/30 [==============================] - 0s 1ms/step - loss: 0.0036\n",
            "Epoch 95/100\n",
            "30/30 [==============================] - 0s 1ms/step - loss: 0.0036\n",
            "Epoch 96/100\n",
            "30/30 [==============================] - 0s 1ms/step - loss: 0.0036\n",
            "Epoch 97/100\n",
            "30/30 [==============================] - 0s 1ms/step - loss: 0.0037\n",
            "Epoch 98/100\n",
            "30/30 [==============================] - 0s 1ms/step - loss: 0.0037\n",
            "Epoch 99/100\n",
            "30/30 [==============================] - 0s 1ms/step - loss: 0.0036\n",
            "Epoch 100/100\n",
            "30/30 [==============================] - 0s 1ms/step - loss: 0.0037\n"
          ]
        },
        {
          "output_type": "execute_result",
          "data": {
            "text/plain": [
              "<keras.callbacks.History at 0x7f618de3f210>"
            ]
          },
          "metadata": {},
          "execution_count": 111
        }
      ]
    },
    {
      "cell_type": "code",
      "metadata": {
        "id": "G2kWEzTuAbkY"
      },
      "source": [
        "y_prediction = classifier.predict(X_test)"
      ],
      "execution_count": 112,
      "outputs": []
    },
    {
      "cell_type": "code",
      "metadata": {
        "colab": {
          "base_uri": "https://localhost:8080/"
        },
        "id": "S0Rw-ZcsZKVZ",
        "outputId": "f831fc19-8342-4827-db23-a10a7144637d"
      },
      "source": [
        "y_prediction"
      ],
      "execution_count": 113,
      "outputs": [
        {
          "output_type": "execute_result",
          "data": {
            "text/plain": [
              "array([[0.6636438 ],\n",
              "       [0.88243544],\n",
              "       [0.6165722 ],\n",
              "       [0.6795457 ],\n",
              "       [0.6408784 ],\n",
              "       [0.6795457 ],\n",
              "       [0.6795457 ],\n",
              "       [0.920487  ],\n",
              "       [0.73295534],\n",
              "       [0.80485696],\n",
              "       [0.60478705],\n",
              "       [0.6449486 ],\n",
              "       [0.8028415 ],\n",
              "       [0.887572  ],\n",
              "       [0.6795457 ],\n",
              "       [0.69771844],\n",
              "       [0.8847343 ],\n",
              "       [0.7278353 ],\n",
              "       [0.6795457 ],\n",
              "       [0.9065544 ],\n",
              "       [0.6462316 ],\n",
              "       [0.6309867 ],\n",
              "       [0.536205  ],\n",
              "       [0.679096  ],\n",
              "       [0.6986246 ],\n",
              "       [0.6823631 ],\n",
              "       [0.5848292 ],\n",
              "       [0.8997934 ],\n",
              "       [0.7892478 ],\n",
              "       [0.8870041 ],\n",
              "       [0.6425569 ],\n",
              "       [0.9039953 ],\n",
              "       [0.6795457 ],\n",
              "       [0.8647843 ],\n",
              "       [0.6647279 ],\n",
              "       [0.8627858 ],\n",
              "       [0.6795457 ],\n",
              "       [0.8656561 ],\n",
              "       [0.6795457 ],\n",
              "       [0.6795457 ],\n",
              "       [0.5307941 ],\n",
              "       [0.55389684],\n",
              "       [0.50144434],\n",
              "       [0.6795457 ],\n",
              "       [0.6795457 ],\n",
              "       [0.5123485 ],\n",
              "       [0.6324366 ],\n",
              "       [0.62897784],\n",
              "       [0.5786173 ],\n",
              "       [0.6835628 ],\n",
              "       [0.9220718 ],\n",
              "       [0.51342386],\n",
              "       [0.89228415],\n",
              "       [0.7460959 ],\n",
              "       [0.5837874 ],\n",
              "       [0.67677724],\n",
              "       [0.734756  ],\n",
              "       [0.80876034],\n",
              "       [0.6688665 ],\n",
              "       [0.866261  ],\n",
              "       [0.64356214],\n",
              "       [0.6795457 ],\n",
              "       [0.6973058 ],\n",
              "       [0.69150305],\n",
              "       [0.6795457 ],\n",
              "       [0.536219  ],\n",
              "       [0.4939838 ],\n",
              "       [0.84545934],\n",
              "       [0.6795457 ],\n",
              "       [0.67718774],\n",
              "       [0.9037261 ],\n",
              "       [0.85609984],\n",
              "       [0.9065367 ],\n",
              "       [0.92521656],\n",
              "       [0.5025174 ],\n",
              "       [0.6656932 ],\n",
              "       [0.7306725 ],\n",
              "       [0.6492428 ],\n",
              "       [0.8841108 ],\n",
              "       [0.6795457 ],\n",
              "       [0.6795457 ],\n",
              "       [0.8083842 ],\n",
              "       [0.8696213 ],\n",
              "       [0.63531977],\n",
              "       [0.9022522 ],\n",
              "       [0.8008561 ],\n",
              "       [0.66733384],\n",
              "       [0.6338087 ],\n",
              "       [0.80946594],\n",
              "       [0.9186604 ],\n",
              "       [0.8432882 ],\n",
              "       [0.76095533],\n",
              "       [0.8687265 ],\n",
              "       [0.66598874],\n",
              "       [0.8600931 ],\n",
              "       [0.6590233 ],\n",
              "       [0.74954337],\n",
              "       [0.59083456],\n",
              "       [0.593281  ],\n",
              "       [0.9115876 ]], dtype=float32)"
            ]
          },
          "metadata": {},
          "execution_count": 113
        }
      ]
    },
    {
      "cell_type": "code",
      "metadata": {
        "id": "BD-7Sjs5Cxsk"
      },
      "source": [
        "y_prediction = [round(y_prediction[i][0],2) for i in range(len(y_prediction))]"
      ],
      "execution_count": 114,
      "outputs": []
    },
    {
      "cell_type": "code",
      "metadata": {
        "id": "gfGi4ynWLAmJ"
      },
      "source": [
        "y_pred = np.array(y_prediction)"
      ],
      "execution_count": 115,
      "outputs": []
    },
    {
      "cell_type": "code",
      "metadata": {
        "id": "7eeL1XHLL8mv"
      },
      "source": [
        "y_test_conv = np.float32(y_test)"
      ],
      "execution_count": 96,
      "outputs": []
    },
    {
      "cell_type": "code",
      "metadata": {
        "colab": {
          "base_uri": "https://localhost:8080/"
        },
        "id": "2b-zde6AMz4B",
        "outputId": "1747ef7a-4c96-4e90-a187-73d5004dbb8e"
      },
      "source": [
        "y_pred"
      ],
      "execution_count": 116,
      "outputs": [
        {
          "output_type": "execute_result",
          "data": {
            "text/plain": [
              "array([0.66, 0.88, 0.62, 0.68, 0.64, 0.68, 0.68, 0.92, 0.73, 0.8 , 0.6 ,\n",
              "       0.64, 0.8 , 0.89, 0.68, 0.7 , 0.88, 0.73, 0.68, 0.91, 0.65, 0.63,\n",
              "       0.54, 0.68, 0.7 , 0.68, 0.58, 0.9 , 0.79, 0.89, 0.64, 0.9 , 0.68,\n",
              "       0.86, 0.66, 0.86, 0.68, 0.87, 0.68, 0.68, 0.53, 0.55, 0.5 , 0.68,\n",
              "       0.68, 0.51, 0.63, 0.63, 0.58, 0.68, 0.92, 0.51, 0.89, 0.75, 0.58,\n",
              "       0.68, 0.73, 0.81, 0.67, 0.87, 0.64, 0.68, 0.7 , 0.69, 0.68, 0.54,\n",
              "       0.49, 0.85, 0.68, 0.68, 0.9 , 0.86, 0.91, 0.93, 0.5 , 0.67, 0.73,\n",
              "       0.65, 0.88, 0.68, 0.68, 0.81, 0.87, 0.64, 0.9 , 0.8 , 0.67, 0.63,\n",
              "       0.81, 0.92, 0.84, 0.76, 0.87, 0.67, 0.86, 0.66, 0.75, 0.59, 0.59,\n",
              "       0.91], dtype=float32)"
            ]
          },
          "metadata": {},
          "execution_count": 116
        }
      ]
    },
    {
      "cell_type": "code",
      "metadata": {
        "colab": {
          "base_uri": "https://localhost:8080/"
        },
        "id": "uAq5RDpgQ-77",
        "outputId": "b2a7fb64-7d99-4880-f468-52b209e6f622"
      },
      "source": [
        "error_rate = classifier.evaluate(X_test,y_pred)\n",
        "error_rate"
      ],
      "execution_count": 120,
      "outputs": [
        {
          "output_type": "stream",
          "name": "stdout",
          "text": [
            "4/4 [==============================] - 0s 3ms/step - loss: 7.7035e-06\n"
          ]
        },
        {
          "output_type": "execute_result",
          "data": {
            "text/plain": [
              "7.703529263380915e-06"
            ]
          },
          "metadata": {},
          "execution_count": 120
        }
      ]
    },
    {
      "cell_type": "code",
      "metadata": {
        "id": "W9V9viUBHwcz"
      },
      "source": [
        "'''\n",
        "Confusion matrix can't be used as the error says \"continous type is not valid\".\n",
        "\n",
        "from sklearn.metrics import confusion_matrix\n",
        "cm = confusion_matrix(y_test, y_pred)'''"
      ],
      "execution_count": null,
      "outputs": []
    },
    {
      "cell_type": "code",
      "metadata": {
        "colab": {
          "base_uri": "https://localhost:8080/"
        },
        "id": "Q9QNC5m2BsVx",
        "outputId": "cde2c4f9-d755-4af1-913f-3226283f905e"
      },
      "source": [
        "from sklearn.metrics import mean_squared_error\n",
        "from math import sqrt\n",
        "from sklearn.metrics import r2_score\n",
        "\n",
        "print(\"RMSE score on the test set:\",sqrt(mean_squared_error(y_test, y_prediction)))\n",
        "print(\"R2 score on the test set:\",r2_score(y_test, y_prediction)*100)"
      ],
      "execution_count": 100,
      "outputs": [
        {
          "output_type": "stream",
          "name": "stdout",
          "text": [
            "RMSE score on the test set: 0.07185401772114877\n",
            "R2 score on the test set: 76.39209218437321\n"
          ]
        }
      ]
    },
    {
      "cell_type": "code",
      "metadata": {
        "colab": {
          "base_uri": "https://localhost:8080/",
          "height": 295
        },
        "id": "IrpW3AzGSwgS",
        "outputId": "84647017-70b5-459a-eff0-d29023e19979"
      },
      "source": [
        "plt.figure(figsize=(10,4))\n",
        "sb.set_style('darkgrid')\n",
        "plt.scatter(y_test,y_prediction)\n",
        "plt.xlabel('Actual')\n",
        "plt.ylabel('Predicted')\n",
        "plt.title('Visualizing the model performance')\n",
        "plt.grid()"
      ],
      "execution_count": 69,
      "outputs": [
        {
          "output_type": "display_data",
          "data": {
            "image/png": "[encoded data removed]",
            "text/plain": [
              "<Figure size 720x288 with 1 Axes>"
            ]
          },
          "metadata": {}
        }
      ]
    },
    {
      "cell_type": "code",
      "metadata": {
        "id": "4qmTwksJRVuJ"
      },
      "source": [
        "classifier.save(\"Chance_of_admission.h5\")"
      ],
      "execution_count": 122,
      "outputs": []
    }
  ]
}